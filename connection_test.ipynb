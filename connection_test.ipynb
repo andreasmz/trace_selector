{
 "cells": [
  {
   "cell_type": "code",
   "execution_count": null,
   "metadata": {},
   "outputs": [
    {
     "name": "stdout",
     "output_type": "stream",
     "text": [
      "Start\n"
     ]
    },
    {
     "name": "stdout",
     "output_type": "stream",
     "text": [
      "0 All models are up-to-date.\n",
      "1 ssdsd\n",
      "2 [TraceSelector] Unknown command 'ssdsd'\n",
      "3 open\tC:\\Users\\abril\\Andreas Eigene Dateien\\Programmieren\\AG Heine Hiwi\\Rohdaten\\control_R1-3-Data.csv\n",
      "4 [TraceSelector] Opening file C:\\Users\\abril\\Andreas Eigene Dateien\\Programmieren\\AG Heine Hiwi\\Rohdaten\\control_R1-3-Data.csv\n",
      "Finished\n"
     ]
    }
   ],
   "source": [
    "import subprocess\n",
    "import threading\n",
    "\n",
    "proc = subprocess.Popen([\"python\", \"trace_selector_main.py\"], stdout=subprocess.PIPE, stdin=subprocess.PIPE, stderr=subprocess.STDOUT, text=True)\n",
    "def printOutput():\n",
    "    i = 0\n",
    "    print(\"Start\")\n",
    "    while (line := proc.stdout.readline()) != \"\":\n",
    "        print(i, line.replace(\"\\n\", \"\"))\n",
    "        i += 1\n",
    "    print(\"Finished\")\n",
    "t = threading.Thread(target=printOutput)\n",
    "t.start()"
   ]
  },
  {
   "cell_type": "code",
   "execution_count": null,
   "metadata": {},
   "outputs": [],
   "source": [
    "print(proc.returncode)"
   ]
  },
  {
   "cell_type": "code",
   "execution_count": null,
   "metadata": {},
   "outputs": [],
   "source": [
    "proc.terminate()"
   ]
  },
  {
   "cell_type": "code",
   "execution_count": 2,
   "metadata": {},
   "outputs": [],
   "source": [
    "proc.stdin.write(\"ssdsd\\n\")\n",
    "proc.stdin.flush()"
   ]
  },
  {
   "cell_type": "code",
   "execution_count": 3,
   "metadata": {},
   "outputs": [],
   "source": [
    "path = r\"C:\\Users\\abril\\Andreas Eigene Dateien\\Programmieren\\AG Heine Hiwi\\Rohdaten\\control_R1-3-Data.csv\"\n",
    "proc.stdin.write(f\"open\\t{path}\\n\")\n",
    "proc.stdin.flush()"
   ]
  },
  {
   "cell_type": "code",
   "execution_count": null,
   "metadata": {},
   "outputs": [],
   "source": [
    "proc.stdin.write(\"open\\n\")\n",
    "proc.stdin.flush()"
   ]
  },
  {
   "cell_type": "code",
   "execution_count": null,
   "metadata": {},
   "outputs": [],
   "source": [
    "proc.stdin.write(\"\\n\")"
   ]
  },
  {
   "cell_type": "code",
   "execution_count": null,
   "metadata": {},
   "outputs": [],
   "source": [
    "proc.stdin.flush()"
   ]
  },
  {
   "cell_type": "code",
   "execution_count": null,
   "metadata": {},
   "outputs": [],
   "source": [
    "x = [\"Hallo Welt\"]\n",
    "print(x[1] or \"None\")"
   ]
  }
 ],
 "metadata": {
  "kernelspec": {
   "display_name": "sweissbach1",
   "language": "python",
   "name": "python3"
  },
  "language_info": {
   "codemirror_mode": {
    "name": "ipython",
    "version": 3
   },
   "file_extension": ".py",
   "mimetype": "text/x-python",
   "name": "python",
   "nbconvert_exporter": "python",
   "pygments_lexer": "ipython3",
   "version": "3.12.7"
  }
 },
 "nbformat": 4,
 "nbformat_minor": 2
}
