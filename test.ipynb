{
 "cells": [
  {
   "cell_type": "code",
   "execution_count": 2,
   "metadata": {},
   "outputs": [],
   "source": [
    "class a:\n",
    "    def __init__(self) -> None:\n",
    "        self.a = 3\n",
    "        self.b = 5\n",
    "        self.c = 2\n",
    "\n",
    "class b:\n",
    "    def __init__(self, a: a) -> None:\n",
    "         pass"
   ]
  },
  {
   "cell_type": "code",
   "execution_count": 3,
   "metadata": {},
   "outputs": [],
   "source": [
    "f = a()"
   ]
  },
  {
   "cell_type": "code",
   "execution_count": 21,
   "metadata": {},
   "outputs": [],
   "source": [
    "import os\n",
    "user_config = os.path.join(os.environ.get('HOME') , '.synapse')"
   ]
  },
  {
   "cell_type": "code",
   "execution_count": 22,
   "metadata": {},
   "outputs": [],
   "source": [
    "os.mkdir(user_config)"
   ]
  },
  {
   "cell_type": "code",
   "execution_count": 16,
   "metadata": {},
   "outputs": [
    {
     "data": {
      "text/plain": [
       "False"
      ]
     },
     "execution_count": 16,
     "metadata": {},
     "output_type": "execute_result"
    }
   ],
   "source": [
    "os.path.exists(os.environ.get('HOME') + '\\\\.synapse')"
   ]
  },
  {
   "cell_type": "code",
   "execution_count": 31,
   "metadata": {},
   "outputs": [],
   "source": [
    "import json\n",
    "config = {\n",
    "    'threshold_start': 0,\n",
    "    'threshold_stop' : 50,\n",
    "    'threshold_step' : 0.1,\n",
    "    'threshold_mult' : 4.0,\n",
    "    'select_responses': False,\n",
    "    'stim_frames': '50,60',\n",
    "    'stim_frames_patience': 10,\n",
    "    'stim_used': False,\n",
    "    'nms': False,\n",
    "    'output_filepath' : '',\n",
    "    'meta_columns': [\"file name\",\"total frames\",\"macro version\",\"xSD ROI\",\"xSD Z\",\"ROI radius\",\"frames baseline\",\"frames response\",\"abs frame #\",\"rel frame #\",\"empty\",\"average Z\"],\n",
    "    'export_xlsx': False,\n",
    "}\n",
    "with open('default_config.json','w') as f:\n",
    "    json.dump(config,f)"
   ]
  },
  {
   "cell_type": "code",
   "execution_count": null,
   "metadata": {},
   "outputs": [],
   "source": []
  },
  {
   "cell_type": "code",
   "execution_count": 26,
   "metadata": {},
   "outputs": [
    {
     "data": {
      "text/plain": [
       "'Darwin'"
      ]
     },
     "execution_count": 26,
     "metadata": {},
     "output_type": "execute_result"
    }
   ],
   "source": [
    "import platform\n",
    "platform.system()"
   ]
  },
  {
   "cell_type": "code",
   "execution_count": 24,
   "metadata": {},
   "outputs": [
    {
     "name": "stdout",
     "output_type": "stream",
     "text": [
      ".synapse\n"
     ]
    }
   ],
   "source": [
    "for i in os.listdir(os.environ.get('HOME')):\n",
    "    if i == '.synapse':\n",
    "        print(i)"
   ]
  }
 ],
 "metadata": {
  "kernelspec": {
   "display_name": "synapse",
   "language": "python",
   "name": "python3"
  },
  "language_info": {
   "codemirror_mode": {
    "name": "ipython",
    "version": 3
   },
   "file_extension": ".py",
   "mimetype": "text/x-python",
   "name": "python",
   "nbconvert_exporter": "python",
   "pygments_lexer": "ipython3",
   "version": "3.10.12"
  },
  "orig_nbformat": 4
 },
 "nbformat": 4,
 "nbformat_minor": 2
}
